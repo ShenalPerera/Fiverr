{
 "cells": [
  {
   "cell_type": "code",
   "execution_count": 41,
   "outputs": [],
   "source": [
    "import  pandas as pd"
   ],
   "metadata": {
    "collapsed": false,
    "pycharm": {
     "name": "#%%\n"
    }
   }
  },
  {
   "cell_type": "code",
   "execution_count": 45,
   "outputs": [
    {
     "data": {
      "text/plain": "           Last_name First_name                         Major Disciplinary\nStudent_ID                                                                \n305671         Jones        Bob        Electrical Engineering          NaN\n987621          Wong       Chen              Computer Science          NaN\n323232         Rubio      Marco  Computer Information Systems          NaN\n564321         Awful    Student              Computer Science            Y\n769889           Boy       Sili  Computer Information Systems            Y\n156421        McGill        Tom        Electrical Engineering          NaN\n999999        Genius       Real                       Physics          NaN",
      "text/html": "<div>\n<style scoped>\n    .dataframe tbody tr th:only-of-type {\n        vertical-align: middle;\n    }\n\n    .dataframe tbody tr th {\n        vertical-align: top;\n    }\n\n    .dataframe thead th {\n        text-align: right;\n    }\n</style>\n<table border=\"1\" class=\"dataframe\">\n  <thead>\n    <tr style=\"text-align: right;\">\n      <th></th>\n      <th>Last_name</th>\n      <th>First_name</th>\n      <th>Major</th>\n      <th>Disciplinary</th>\n    </tr>\n    <tr>\n      <th>Student_ID</th>\n      <th></th>\n      <th></th>\n      <th></th>\n      <th></th>\n    </tr>\n  </thead>\n  <tbody>\n    <tr>\n      <th>305671</th>\n      <td>Jones</td>\n      <td>Bob</td>\n      <td>Electrical Engineering</td>\n      <td>NaN</td>\n    </tr>\n    <tr>\n      <th>987621</th>\n      <td>Wong</td>\n      <td>Chen</td>\n      <td>Computer Science</td>\n      <td>NaN</td>\n    </tr>\n    <tr>\n      <th>323232</th>\n      <td>Rubio</td>\n      <td>Marco</td>\n      <td>Computer Information Systems</td>\n      <td>NaN</td>\n    </tr>\n    <tr>\n      <th>564321</th>\n      <td>Awful</td>\n      <td>Student</td>\n      <td>Computer Science</td>\n      <td>Y</td>\n    </tr>\n    <tr>\n      <th>769889</th>\n      <td>Boy</td>\n      <td>Sili</td>\n      <td>Computer Information Systems</td>\n      <td>Y</td>\n    </tr>\n    <tr>\n      <th>156421</th>\n      <td>McGill</td>\n      <td>Tom</td>\n      <td>Electrical Engineering</td>\n      <td>NaN</td>\n    </tr>\n    <tr>\n      <th>999999</th>\n      <td>Genius</td>\n      <td>Real</td>\n      <td>Physics</td>\n      <td>NaN</td>\n    </tr>\n  </tbody>\n</table>\n</div>"
     },
     "execution_count": 45,
     "metadata": {},
     "output_type": "execute_result"
    }
   ],
   "source": [
    "student_majors_df =  pd.read_csv(\"./inputs/StudentsMajorsList.csv\",delimiter=\",\",header=None)\n",
    "student_majors_df.columns = [\"Student_ID\",\"Last_name\",\"First_name\",\"Major\",\"Disciplinary\"]\n",
    "\n",
    "student_majors_df = student_majors_df.set_index('Student_ID')\n",
    "student_majors_df"
   ],
   "metadata": {
    "collapsed": false,
    "pycharm": {
     "name": "#%%\n"
    }
   }
  },
  {
   "cell_type": "code",
   "execution_count": 49,
   "outputs": [
    {
     "data": {
      "text/plain": "             GPA\nStudent_ID      \n156421      3.40\n305671      3.10\n323232      3.80\n564321      2.20\n769889      3.90\n987621      3.85\n999999      4.00",
      "text/html": "<div>\n<style scoped>\n    .dataframe tbody tr th:only-of-type {\n        vertical-align: middle;\n    }\n\n    .dataframe tbody tr th {\n        vertical-align: top;\n    }\n\n    .dataframe thead th {\n        text-align: right;\n    }\n</style>\n<table border=\"1\" class=\"dataframe\">\n  <thead>\n    <tr style=\"text-align: right;\">\n      <th></th>\n      <th>GPA</th>\n    </tr>\n    <tr>\n      <th>Student_ID</th>\n      <th></th>\n    </tr>\n  </thead>\n  <tbody>\n    <tr>\n      <th>156421</th>\n      <td>3.40</td>\n    </tr>\n    <tr>\n      <th>305671</th>\n      <td>3.10</td>\n    </tr>\n    <tr>\n      <th>323232</th>\n      <td>3.80</td>\n    </tr>\n    <tr>\n      <th>564321</th>\n      <td>2.20</td>\n    </tr>\n    <tr>\n      <th>769889</th>\n      <td>3.90</td>\n    </tr>\n    <tr>\n      <th>987621</th>\n      <td>3.85</td>\n    </tr>\n    <tr>\n      <th>999999</th>\n      <td>4.00</td>\n    </tr>\n  </tbody>\n</table>\n</div>"
     },
     "execution_count": 49,
     "metadata": {},
     "output_type": "execute_result"
    }
   ],
   "source": [
    "student_gpa_df =  pd.read_csv(\"./inputs/GPAList.csv\",delimiter=\",\",header=None)\n",
    "student_gpa_df.columns = [\"Student_ID\",\"GPA\"]\n",
    "student_gpa_df = student_gpa_df.set_index('Student_ID')\n",
    "student_gpa_df"
   ],
   "metadata": {
    "collapsed": false,
    "pycharm": {
     "name": "#%%\n"
    }
   }
  },
  {
   "cell_type": "code",
   "execution_count": 50,
   "outputs": [
    {
     "data": {
      "text/plain": "                 Date\nStudent_ID           \n999999       6/1/2022\n987621       6/1/2023\n769889       6/1/2022\n564321       6/1/2023\n323232       6/1/2021\n305671       6/1/2020\n156421      12/1/2022",
      "text/html": "<div>\n<style scoped>\n    .dataframe tbody tr th:only-of-type {\n        vertical-align: middle;\n    }\n\n    .dataframe tbody tr th {\n        vertical-align: top;\n    }\n\n    .dataframe thead th {\n        text-align: right;\n    }\n</style>\n<table border=\"1\" class=\"dataframe\">\n  <thead>\n    <tr style=\"text-align: right;\">\n      <th></th>\n      <th>Date</th>\n    </tr>\n    <tr>\n      <th>Student_ID</th>\n      <th></th>\n    </tr>\n  </thead>\n  <tbody>\n    <tr>\n      <th>999999</th>\n      <td>6/1/2022</td>\n    </tr>\n    <tr>\n      <th>987621</th>\n      <td>6/1/2023</td>\n    </tr>\n    <tr>\n      <th>769889</th>\n      <td>6/1/2022</td>\n    </tr>\n    <tr>\n      <th>564321</th>\n      <td>6/1/2023</td>\n    </tr>\n    <tr>\n      <th>323232</th>\n      <td>6/1/2021</td>\n    </tr>\n    <tr>\n      <th>305671</th>\n      <td>6/1/2020</td>\n    </tr>\n    <tr>\n      <th>156421</th>\n      <td>12/1/2022</td>\n    </tr>\n  </tbody>\n</table>\n</div>"
     },
     "execution_count": 50,
     "metadata": {},
     "output_type": "execute_result"
    }
   ],
   "source": [
    "student_graduation_df =  pd.read_csv(\"./inputs/GraduationDatesList.csv\",delimiter=\",\",header=None)\n",
    "student_graduation_df.columns = [\"Student_ID\",\"Date\"]\n",
    "student_graduation_df =  student_graduation_df.set_index('Student_ID')\n",
    "student_graduation_df"
   ],
   "metadata": {
    "collapsed": false,
    "pycharm": {
     "name": "#%%\n"
    }
   }
  },
  {
   "cell_type": "code",
   "execution_count": 63,
   "outputs": [],
   "source": [
    "full_roster = []\n",
    "student_IDs = student_majors_df.index\n",
    "\n",
    "for id in student_IDs:\n",
    "\n",
    "    try:\n",
    "        temp = [id,student_majors_df.loc[id,'Major'],student_majors_df.loc[id,'First_name'],student_majors_df.loc[id,'Last_name'],student_gpa_df.loc[id,'GPA'],student_graduation_df.loc[id,'Date'],student_majors_df.loc[id,'Disciplinary']]\n",
    "        full_roster.append(temp)\n",
    "    except KeyError:\n",
    "        pass\n",
    "\n",
    "full_roster_df = pd.DataFrame(full_roster,columns=[\"ID\",\"Major\",\"Fname\",\"Lname\",\"GPA\",\"Date\",\"Disciplinary\"])\n",
    "full_roster_df.sort_values(by=[\"Lname\"],ascending=True,inplace=True)\n",
    "full_roster_df.to_csv(\"./outputs/FullRoster.csv\",header=None,index=None)"
   ],
   "metadata": {
    "collapsed": false,
    "pycharm": {
     "name": "#%%\n"
    }
   }
  },
  {
   "cell_type": "code",
   "execution_count": 67,
   "outputs": [],
   "source": [
    "headers = [\"Student_ID\",\"Lname\",\"Fname\",\"Gdate\",\"Disciplinary\"]\n",
    "\n",
    "majors = student_majors_df[\"Major\"].unique()\n",
    "\n",
    "for major in majors:\n",
    "    temp_list = []\n",
    "    student_IDs = student_majors_df[student_majors_df['Major'] == major].index\n",
    "\n",
    "    for id in student_IDs:\n",
    "\n",
    "        try:\n",
    "            temp = [id,student_majors_df.loc[id,'Last_name'],student_majors_df.loc[id,'First_name'],student_graduation_df.loc[id,'Date'],student_majors_df.loc[id,'Disciplinary']]\n",
    "            temp_list.append(temp)\n",
    "        except KeyError:\n",
    "            pass\n",
    "    filename = str(major).replace(\" \",\"\") + \".csv\"\n",
    "    full_roster_df = pd.DataFrame(temp_list,columns=[\"ID\",\"Lname\",\"Fname\",\"Date\",\"Disciplinary\"])\n",
    "    full_roster_df.sort_values(by=[\"ID\"],ascending=True,inplace=True)\n",
    "    full_roster_df.to_csv(\"./outputs/\"+filename,header=None,index=None)"
   ],
   "metadata": {
    "collapsed": false,
    "pycharm": {
     "name": "#%%\n"
    }
   }
  },
  {
   "cell_type": "code",
   "execution_count": 70,
   "outputs": [],
   "source": [
    "scholar_candidates = []\n",
    "student_IDs = student_gpa_df[student_gpa_df['GPA'] > 3.8].index\n",
    "\n",
    "for id in student_IDs:\n",
    "\n",
    "    try:\n",
    "        temp = [id,student_majors_df.loc[id,'Last_name'],student_majors_df.loc[id,'First_name'],student_majors_df.loc[id,'Major'],student_gpa_df.loc[id,'GPA']]\n",
    "        scholar_candidates.append(temp)\n",
    "    except KeyError:\n",
    "        pass\n",
    "\n",
    "scholar_candidates_df = pd.DataFrame(scholar_candidates,columns=[\"ID\",\"Lanme\",\"Fname\",\"Major\",\"GPA\"])\n",
    "scholar_candidates_df.sort_values(by=[\"GPA\"],ascending=False,inplace=True)\n",
    "scholar_candidates_df.to_csv(\"./outputs/ScholarshipCandidates.csv\",header=False,index=False)"
   ],
   "metadata": {
    "collapsed": false,
    "pycharm": {
     "name": "#%%\n"
    }
   }
  },
  {
   "cell_type": "code",
   "execution_count": 88,
   "outputs": [
    {
     "name": "stdout",
     "output_type": "stream",
     "text": [
      "['6', '1', '2023']\n",
      "[[564321, 'Awful', 'Student', '6', '1', '2023', '6/1/2023']]\n",
      "['6', '1', '2022']\n",
      "[[564321, 'Awful', 'Student', '6', '1', '2023', '6/1/2023'], [769889, 'Boy', 'Sili', '6', '1', '2022', '6/1/2022']]\n"
     ]
    }
   ],
   "source": [
    "discipline = []\n",
    "student_IDs = student_majors_df[student_majors_df['Disciplinary'] == 'Y'].index\n",
    "\n",
    "for id in student_IDs:\n",
    "\n",
    "    try:\n",
    "        date = str(student_graduation_df.loc[id,'Date']).replace(\"/\",\"_\").replace(\"-\",\"_\").split(\"_\")\n",
    "        print(date)\n",
    "        temp = [id,student_majors_df.loc[id,'Last_name'],student_majors_df.loc[id,'First_name'],date[0],date[1],date[2],student_graduation_df.loc[id,'Date']]\n",
    "        discipline.append(temp)\n",
    "        print(discipline)\n",
    "    except KeyError:\n",
    "        pass\n",
    "\n",
    "discipline_df = pd.DataFrame(discipline,columns=[\"ID\",\"Lanme\",\"Fname\",\"Date\",\"Month\",\"Year\",\"Original_Date\"])\n",
    "discipline_df.sort_values(by=[\"Year\",\"Month\",\"Date\"],ascending=True,inplace=True)\n",
    "discipline_df.to_csv(\"./outputs/DisciplineStudents.csv\",header=False,index=False,columns=[\"ID\",\"Lanme\",\"Fname\",\"Original_Date\"])"
   ],
   "metadata": {
    "collapsed": false,
    "pycharm": {
     "name": "#%%\n"
    }
   }
  }
 ],
 "metadata": {
  "kernelspec": {
   "display_name": "Python 3 (ipykernel)",
   "language": "python",
   "name": "python3"
  },
  "language_info": {
   "codemirror_mode": {
    "name": "ipython",
    "version": 2
   },
   "file_extension": ".py",
   "mimetype": "text/x-python",
   "name": "python",
   "nbconvert_exporter": "python",
   "pygments_lexer": "ipython2",
   "version": "2.7.6"
  }
 },
 "nbformat": 4,
 "nbformat_minor": 1
}