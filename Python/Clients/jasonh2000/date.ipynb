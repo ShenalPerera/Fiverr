{
 "cells": [
  {
   "cell_type": "code",
   "execution_count": 70,
   "outputs": [],
   "source": [
    "import datetime, time"
   ],
   "metadata": {
    "collapsed": false,
    "pycharm": {
     "name": "#%%\n"
    }
   }
  },
  {
   "cell_type": "code",
   "execution_count": 71,
   "metadata": {
    "collapsed": true
   },
   "outputs": [],
   "source": [
    "SECONDS_IN_YEAR = 365 * 60 * 60 *24\n",
    "SECONDS_IN_DAY  = 60 * 60 * 24\n",
    "SECONDS_IN_HOUR = 60 * 60\n",
    "SECONDS_IN_MINUTE = 60"
   ]
  },
  {
   "cell_type": "code",
   "execution_count": 78,
   "outputs": [],
   "source": [
    "# get the user input from user for year,month and day\n",
    "year = int(input(\"Please enter your birth year :\"))\n",
    "month = int(input(\"Please enter month of your birth : \"))\n",
    "day = int(input(\"Please enter day of your birth  : \"))"
   ],
   "metadata": {
    "collapsed": false,
    "pycharm": {
     "name": "#%%\n"
    }
   }
  },
  {
   "cell_type": "code",
   "execution_count": 79,
   "outputs": [],
   "source": [
    "#create time object using python inbuilt module\n",
    "current_date = datetime.datetime.now()\n",
    "current_date_f_number = time.mktime(current_date.timetuple())   # convert it into seconds"
   ],
   "metadata": {
    "collapsed": false,
    "pycharm": {
     "name": "#%%\n"
    }
   }
  },
  {
   "cell_type": "code",
   "execution_count": 80,
   "outputs": [],
   "source": [
    "# convert birthday into the floating point number\n",
    "birthday = datetime.datetime(year,month,day,0,0)\n",
    "birthday_f_number = time.mktime(birthday.timetuple())"
   ],
   "metadata": {
    "collapsed": false,
    "pycharm": {
     "name": "#%%\n"
    }
   }
  },
  {
   "cell_type": "code",
   "execution_count": 81,
   "outputs": [],
   "source": [
    "# calculate the difference in seconds\n",
    "time_diff = current_date_f_number - birthday_f_number\n",
    "time_diff = int(time_diff)"
   ],
   "metadata": {
    "collapsed": false,
    "pycharm": {
     "name": "#%%\n"
    }
   }
  },
  {
   "cell_type": "code",
   "execution_count": 82,
   "outputs": [],
   "source": [
    "# calculate the years, month and days from dividing time difference\n",
    "number_of_years = time_diff // SECONDS_IN_YEAR\n",
    "time_diff = time_diff % SECONDS_IN_YEAR\n",
    "\n",
    "number_of_days = time_diff // SECONDS_IN_DAY\n",
    "time_diff = time_diff % SECONDS_IN_DAY\n",
    "\n",
    "number_of_hours = time_diff // SECONDS_IN_HOUR\n",
    "time_diff = time_diff % SECONDS_IN_HOUR\n",
    "\n",
    "number_of_minutes = time_diff // SECONDS_IN_MINUTE\n",
    "number_of_seconds = time_diff % SECONDS_IN_MINUTE"
   ],
   "metadata": {
    "collapsed": false,
    "pycharm": {
     "name": "#%%\n"
    }
   }
  },
  {
   "cell_type": "code",
   "execution_count": 83,
   "outputs": [
    {
     "name": "stdout",
     "output_type": "stream",
     "text": [
      "your birthday is 24/1/2000 (22 years, 313 days, 13 hours, 24 minutes, and 55 ago.)\n"
     ]
    }
   ],
   "source": [
    "print(f\"your birthday is {day}/{month}/{year} ({number_of_years} years, {number_of_days} days, {number_of_hours} hours, {number_of_minutes} minutes, and {number_of_seconds} ago.)\")"
   ],
   "metadata": {
    "collapsed": false,
    "pycharm": {
     "name": "#%%\n"
    }
   }
  }
 ],
 "metadata": {
  "kernelspec": {
   "display_name": "Python 3",
   "language": "python",
   "name": "python3"
  },
  "language_info": {
   "codemirror_mode": {
    "name": "ipython",
    "version": 2
   },
   "file_extension": ".py",
   "mimetype": "text/x-python",
   "name": "python",
   "nbconvert_exporter": "python",
   "pygments_lexer": "ipython2",
   "version": "2.7.6"
  }
 },
 "nbformat": 4,
 "nbformat_minor": 0
}